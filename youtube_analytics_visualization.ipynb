{
 "cells": [
  {
   "cell_type": "code",
   "execution_count": null,
   "id": "0b890261",
   "metadata": {},
   "outputs": [],
   "source": [
    "import pandas as pd\n",
    "import numpy as np\n",
    "import matplotlib.pyplot as plt\n",
    "import seaborn as sns\n"
   ]
  },
  {
   "cell_type": "code",
   "execution_count": null,
   "id": "0fc78156",
   "metadata": {},
   "outputs": [],
   "source": [
    "# Create mock data for demonstration\n",
    "np.random.seed(42)\n",
    "n = 200\n",
    "\n",
    "categories = ['Education', 'Entertainment', 'Technology', 'Music', 'Lifestyle']\n",
    "df = pd.DataFrame({\n",
    "    'video_id': np.arange(n),\n",
    "    'category': np.random.choice(categories, size=n),\n",
    "    'engagement_score': np.random.beta(2, 5, size=n) * 100,\n",
    "    'avg_sentiment_proxy': np.random.normal(loc=0.2, scale=0.1, size=n),\n",
    "    'publish_date': pd.date_range(start='2024-01-01', periods=n, freq='D')\n",
    "})"
   ]
  },
  {
   "cell_type": "code",
   "execution_count": null,
   "id": "f3424ca1",
   "metadata": {},
   "outputs": [],
   "source": [
    "# Plot 1: Engagement Score Distribution\n",
    "plt.figure(figsize=(10, 6))\n",
    "sns.histplot(df['engagement_score'], bins=30, color='blue', kde=True)\n",
    "plt.title('📊 Engagement Score Distribution')\n",
    "plt.xlabel('Engagement Score')\n",
    "plt.ylabel('Frequency')\n",
    "plt.tight_layout()\n",
    "plt.show()"
   ]
  },
  {
   "cell_type": "code",
   "execution_count": null,
   "id": "1e53e5b1",
   "metadata": {},
   "outputs": [],
   "source": [
    "# Plot 2: Average Sentiment Proxy Distribution\n",
    "plt.figure(figsize=(10, 6))\n",
    "sns.histplot(df['avg_sentiment_proxy'], bins=30, color='green', kde=True)\n",
    "plt.title('💬 Average Sentiment Proxy Distribution')\n",
    "plt.xlabel('Average Sentiment Proxy')\n",
    "plt.ylabel('Frequency')\n",
    "plt.tight_layout()\n",
    "plt.show()"
   ]
  },
  {
   "cell_type": "code",
   "execution_count": null,
   "id": "48e9550b",
   "metadata": {},
   "outputs": [],
   "source": [
    "# Plot 3: Engagement Score by Video Category\n",
    "plt.figure(figsize=(12, 6))\n",
    "sns.boxplot(x='category', y='engagement_score', data=df)\n",
    "plt.title('📦 Engagement Score by Video Category')\n",
    "plt.xlabel('Category')\n",
    "plt.ylabel('Engagement Score')\n",
    "plt.xticks(rotation=45)\n",
    "plt.tight_layout()\n",
    "plt.show()"
   ]
  },
  {
   "cell_type": "code",
   "execution_count": null,
   "id": "c4fb2335",
   "metadata": {},
   "outputs": [],
   "source": [
    "# Plot 4: Sentiment Proxy vs. Engagement Score\n",
    "plt.figure(figsize=(10, 6))\n",
    "sns.scatterplot(x='avg_sentiment_proxy', y='engagement_score', data=df, hue='category')\n",
    "plt.title('📈 Sentiment Proxy vs. Engagement Score')\n",
    "plt.xlabel('Average Sentiment Proxy')\n",
    "plt.ylabel('Engagement Score')\n",
    "plt.legend(title='Category', bbox_to_anchor=(1.05, 1), loc='upper left')\n",
    "plt.tight_layout()\n",
    "plt.show()"
   ]
  },
  {
   "cell_type": "code",
   "execution_count": null,
   "id": "10595441",
   "metadata": {},
   "outputs": [],
   "source": [
    "# Plot 5: Average Engagement Score Over Time\n",
    "df['publish_date'] = pd.to_datetime(df['publish_date'], errors='coerce')\n",
    "engagement_over_time = df.groupby('publish_date')['engagement_score'].mean().sort_index()\n",
    "\n",
    "plt.figure(figsize=(12, 6))\n",
    "engagement_over_time.plot(color='purple')\n",
    "plt.title('🕒 Average Engagement Score Over Time')\n",
    "plt.xlabel('Publish Date')\n",
    "plt.ylabel('Average Engagement Score')\n",
    "plt.grid(True)\n",
    "plt.tight_layout()\n",
    "plt.show()"
   ]
  }
 ],
 "metadata": {
  "language": "python"
 },
 "nbformat": 4,
 "nbformat_minor": 5
}